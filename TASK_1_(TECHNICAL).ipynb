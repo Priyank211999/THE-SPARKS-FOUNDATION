{
  "nbformat": 4,
  "nbformat_minor": 0,
  "metadata": {
    "colab": {
      "name": "TASK-1 (TECHNICAL).ipynb",
      "provenance": [],
      "collapsed_sections": []
    },
    "kernelspec": {
      "name": "python3",
      "display_name": "Python 3"
    }
  },
  "cells": [
    {
      "cell_type": "markdown",
      "metadata": {
        "id": "i9w8n4k_0bDr"
      },
      "source": [
        "#THE SPARKS FOUNDATION\n",
        "\n",
        "#|| GRIPNOV20 DSBA TASK 1 (TECHNICAL) ||\n",
        "\n",
        "#NAME : PRIYANK GUPTA\n",
        "\n",
        "\n"
      ]
    },
    {
      "cell_type": "markdown",
      "metadata": {
        "id": "95QXVRF-2Ynd"
      },
      "source": [
        "#AIM : Predict the percentage/score of an student based on the no. of study hours."
      ]
    },
    {
      "cell_type": "markdown",
      "metadata": {
        "id": "ksk15EgpzG6C"
      },
      "source": [
        "***Importing the appropriate libraries***"
      ]
    },
    {
      "cell_type": "code",
      "metadata": {
        "id": "odMGqF41GJUa"
      },
      "source": [
        "import pandas as pd\n",
        "import numpy as np\n",
        "import matplotlib.pyplot as plt"
      ],
      "execution_count": null,
      "outputs": []
    },
    {
      "cell_type": "markdown",
      "metadata": {
        "id": "ltbo53HNGVVu"
      },
      "source": [
        "***Importing the dataset***"
      ]
    },
    {
      "cell_type": "code",
      "metadata": {
        "id": "GhmQC3W2CbaX"
      },
      "source": [
        "df=pd.read_csv('https://raw.githubusercontent.com/AdiPersonalWorks/Random/master/student_scores%20-%20student_scores.csv')"
      ],
      "execution_count": null,
      "outputs": []
    },
    {
      "cell_type": "markdown",
      "metadata": {
        "id": "9GP2JtxoGaH_"
      },
      "source": [
        "***Looking at the first 5 observations***"
      ]
    },
    {
      "cell_type": "code",
      "metadata": {
        "id": "tg3GUPEkCeF2",
        "outputId": "b857f351-5e3a-4f9c-816a-fd8b4efd97a1",
        "colab": {
          "base_uri": "https://localhost:8080/"
        }
      },
      "source": [
        "df.head()"
      ],
      "execution_count": null,
      "outputs": [
        {
          "output_type": "execute_result",
          "data": {
            "text/html": [
              "<div>\n",
              "<style scoped>\n",
              "    .dataframe tbody tr th:only-of-type {\n",
              "        vertical-align: middle;\n",
              "    }\n",
              "\n",
              "    .dataframe tbody tr th {\n",
              "        vertical-align: top;\n",
              "    }\n",
              "\n",
              "    .dataframe thead th {\n",
              "        text-align: right;\n",
              "    }\n",
              "</style>\n",
              "<table border=\"1\" class=\"dataframe\">\n",
              "  <thead>\n",
              "    <tr style=\"text-align: right;\">\n",
              "      <th></th>\n",
              "      <th>Hours</th>\n",
              "      <th>Scores</th>\n",
              "    </tr>\n",
              "  </thead>\n",
              "  <tbody>\n",
              "    <tr>\n",
              "      <th>0</th>\n",
              "      <td>2.5</td>\n",
              "      <td>21</td>\n",
              "    </tr>\n",
              "    <tr>\n",
              "      <th>1</th>\n",
              "      <td>5.1</td>\n",
              "      <td>47</td>\n",
              "    </tr>\n",
              "    <tr>\n",
              "      <th>2</th>\n",
              "      <td>3.2</td>\n",
              "      <td>27</td>\n",
              "    </tr>\n",
              "    <tr>\n",
              "      <th>3</th>\n",
              "      <td>8.5</td>\n",
              "      <td>75</td>\n",
              "    </tr>\n",
              "    <tr>\n",
              "      <th>4</th>\n",
              "      <td>3.5</td>\n",
              "      <td>30</td>\n",
              "    </tr>\n",
              "  </tbody>\n",
              "</table>\n",
              "</div>"
            ],
            "text/plain": [
              "   Hours  Scores\n",
              "0    2.5      21\n",
              "1    5.1      47\n",
              "2    3.2      27\n",
              "3    8.5      75\n",
              "4    3.5      30"
            ]
          },
          "metadata": {
            "tags": []
          },
          "execution_count": 27
        }
      ]
    },
    {
      "cell_type": "markdown",
      "metadata": {
        "id": "RIQxSHChGh0H"
      },
      "source": [
        "***Separating the independent and dependent variables***"
      ]
    },
    {
      "cell_type": "code",
      "metadata": {
        "id": "5dChHGE1Cg3p"
      },
      "source": [
        "X=df.iloc[:,:-1].values\n",
        "Y=df.iloc[:,1].values"
      ],
      "execution_count": null,
      "outputs": []
    },
    {
      "cell_type": "markdown",
      "metadata": {
        "id": "5IGBd6JYGgx6"
      },
      "source": [
        "***Checking the relationship between the independent and dependent variable***"
      ]
    },
    {
      "cell_type": "code",
      "metadata": {
        "id": "YLaSC-3ADYha",
        "outputId": "e014f0f1-6e05-45e3-a033-8563d404a251",
        "colab": {
          "base_uri": "https://localhost:8080/"
        }
      },
      "source": [
        "plt.scatter(X,Y,c='blue')\n",
        "plt.xlabel('Hours')\n",
        "plt.ylabel('Scores')\n",
        "plt.title('Simple Linear Regression')\n",
        "plt.show()\n",
        "\n",
        "#the graph shows that it is a linear dataset, hence, simple linear regression would work"
      ],
      "execution_count": null,
      "outputs": [
        {
          "output_type": "display_data",
          "data": {
            "image/png": "[encoded data removed]",
            "text/plain": [
              "<Figure size 432x288 with 1 Axes>"
            ]
          },
          "metadata": {
            "tags": [],
            "needs_background": "light"
          }
        }
      ]
    },
    {
      "cell_type": "markdown",
      "metadata": {
        "id": "8wBFoB_zHHXX"
      },
      "source": [
        "***Splitting the dataset into training and test sets***"
      ]
    },
    {
      "cell_type": "code",
      "metadata": {
        "id": "yqWCqDX5DpZj"
      },
      "source": [
        "from sklearn.model_selection import train_test_split\n",
        "train_x,test_x,train_y,test_y=train_test_split(X,Y,test_size=0.2,random_state=0)"
      ],
      "execution_count": null,
      "outputs": []
    },
    {
      "cell_type": "markdown",
      "metadata": {
        "id": "N0uRuYRGHNmY"
      },
      "source": [
        "***Fitting the model on the training set***"
      ]
    },
    {
      "cell_type": "code",
      "metadata": {
        "id": "-T76FmrBD-1V",
        "outputId": "22ab2d91-f0f7-411d-c78b-6dfb0a8fa85e",
        "colab": {
          "base_uri": "https://localhost:8080/"
        }
      },
      "source": [
        "from sklearn.linear_model import LinearRegression\n",
        "regressor=LinearRegression()\n",
        "regressor.fit(train_x,train_y)"
      ],
      "execution_count": null,
      "outputs": [
        {
          "output_type": "execute_result",
          "data": {
            "text/plain": [
              "LinearRegression(copy_X=True, fit_intercept=True, n_jobs=None, normalize=False)"
            ]
          },
          "metadata": {
            "tags": []
          },
          "execution_count": 31
        }
      ]
    },
    {
      "cell_type": "markdown",
      "metadata": {
        "id": "dfa5dYWLHNHu"
      },
      "source": [
        "***Predicting the score values for test set***"
      ]
    },
    {
      "cell_type": "code",
      "metadata": {
        "id": "fkj0zWsHEAci"
      },
      "source": [
        "y_pred=regressor.predict(test_x)"
      ],
      "execution_count": null,
      "outputs": []
    },
    {
      "cell_type": "markdown",
      "metadata": {
        "id": "JWi3L8B2Hfj4"
      },
      "source": [
        "***Best fitting line and the training dataset***"
      ]
    },
    {
      "cell_type": "code",
      "metadata": {
        "id": "Oaz1UDWqEltP",
        "outputId": "c5bec735-2acf-4a3f-d228-8ef7355517d4",
        "colab": {
          "base_uri": "https://localhost:8080/"
        }
      },
      "source": [
        "plt.scatter(train_x,train_y,c='blue')\n",
        "plt.plot(train_x,regressor.predict(train_x),c='red')\n",
        "plt.xlabel('Hours')\n",
        "plt.ylabel('Scores')\n",
        "plt.title('Simple Linear Regression')\n",
        "plt.show()"
      ],
      "execution_count": null,
      "outputs": [
        {
          "output_type": "display_data",
          "data": {
            "image/png": "[encoded data removed]",
            "text/plain": [
              "<Figure size 432x288 with 1 Axes>"
            ]
          },
          "metadata": {
            "tags": [],
            "needs_background": "light"
          }
        }
      ]
    },
    {
      "cell_type": "markdown",
      "metadata": {
        "id": "yJRI4YrLHuNg"
      },
      "source": [
        "***Best fitting line and the testing dataset***"
      ]
    },
    {
      "cell_type": "code",
      "metadata": {
        "id": "5fwGZHKUFJ10",
        "outputId": "6c8bfa55-3745-490d-83b3-a31e22465fde",
        "colab": {
          "base_uri": "https://localhost:8080/"
        }
      },
      "source": [
        "plt.scatter(test_x,test_y,c='blue')\n",
        "plt.plot(train_x,regressor.predict(train_x),c='red')\n",
        "plt.xlabel('Hours')\n",
        "plt.ylabel('Scores')\n",
        "plt.title('Simple Linear Regression')\n",
        "plt.show()"
      ],
      "execution_count": null,
      "outputs": [
        {
          "output_type": "display_data",
          "data": {
            "image/png": "[encoded data removed]",
            "text/plain": [
              "<Figure size 432x288 with 1 Axes>"
            ]
          },
          "metadata": {
            "tags": [],
            "needs_background": "light"
          }
        }
      ]
    },
    {
      "cell_type": "markdown",
      "metadata": {
        "id": "fXOow4ySH2_z"
      },
      "source": [
        "***Finding out the score for a student who studies 9.25 hrs/day by the help of our linear regressor***"
      ]
    },
    {
      "cell_type": "code",
      "metadata": {
        "id": "JC2jmlPpFN9L",
        "outputId": "c5b3383d-0f4a-411f-a071-77d99d1e3869",
        "colab": {
          "base_uri": "https://localhost:8080/"
        }
      },
      "source": [
        "new_value=float(regressor.predict([[9.25]]))\n",
        "print('Score secured by the student when he/she studies for 9.25 hrs/day would be:', new_value)"
      ],
      "execution_count": null,
      "outputs": [
        {
          "output_type": "stream",
          "text": [
            "Score secured by the student when he/she studies for 9.25 hrs/day would be: 93.69173248737539\n"
          ],
          "name": "stdout"
        }
      ]
    },
    {
      "cell_type": "markdown",
      "metadata": {
        "id": "244gS3UaIBzG"
      },
      "source": [
        "***Evaluating the performance of the model using the R-squared value***"
      ]
    },
    {
      "cell_type": "code",
      "metadata": {
        "id": "yM93wGBxFRQH",
        "outputId": "24fe97c5-8c84-43ab-82f4-aa4e6e7d3ba1",
        "colab": {
          "base_uri": "https://localhost:8080/"
        }
      },
      "source": [
        "from sklearn.metrics import r2_score\n",
        "r2_score(test_y,y_pred)"
      ],
      "execution_count": null,
      "outputs": [
        {
          "output_type": "execute_result",
          "data": {
            "text/plain": [
              "0.9454906892105354"
            ]
          },
          "metadata": {
            "tags": []
          },
          "execution_count": 36
        }
      ]
    },
    {
      "cell_type": "markdown",
      "metadata": {
        "id": "qYoLzjrsIKff"
      },
      "source": [
        "#End of the project"
      ]
    }
  ]
}